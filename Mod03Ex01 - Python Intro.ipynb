{
 "cells": [
  {
   "cell_type": "markdown",
   "metadata": {},
   "source": [
    "### 01 - Teste de gravidez\n",
    "Escreva uma célula com controle de fluxos que tem como premissa a existência das seguintes variáveis:\n",
    "\n",
    "- ```sexo``` como ```str``` indicando os valores '**M**' para masculino e '**F**' para feminino  \n",
    "- ```beta_hcg``` que indica a quantidade do beta-HCG no sangue em mUI/mL.\n",
    "\n",
    "A sua tarefa é escrever um código que imprima como resultado \"indivíduo do sexo masculino\" quando sexo = 'M', caso sexo = 'F', se o valor de beta-HCG for maior que 5, retorne \"Positivo\" indicando que a paciente está grávida, e retorne \"Negativo\" caso contrário.\n",
    "\n",
    "Não mexa nos valores da variável ```sexo``` nem em ```beta_hcg```, e escreva um código que funcione para quaisquer valores possíveis de ambos: ```sexo``` = '**M**' ou '**F**' e ```beta_hcg``` assumindo valores inteiros positivos."
   ]
  },
  {
   "cell_type": "code",
   "execution_count": 4,
   "metadata": {},
   "outputs": [
    {
     "name": "stdout",
     "output_type": "stream",
     "text": [
      "Indivíduo do sexo masculino\n"
     ]
    }
   ],
   "source": [
    "sexo = 'M'\n",
    "beta_hcg = 0\n",
    "\n",
    "# seu código vem abaixo desta linha\n",
    "\n",
    "if sexo == 'M':\n",
    "    print('Indivíduo do sexo masculino')\n",
    "\n",
    "elif sexo == 'F':\n",
    "    print('Indivíduo do sexo feminino')\n",
    "    \n",
    "    if beta_hcg > 5:\n",
    "        print('Resultado positivo para gravidez')\n",
    "    \n",
    "    else:\n",
    "        print('Resultado negativo para gravidez')"
   ]
  },
  {
   "cell_type": "markdown",
   "metadata": {},
   "source": [
    "### 02 - Renomeando variáveis\n",
    "\n",
    "Vamos ver adiante que uma forma de renomear variáveis de um conjunto de dados é através de dicionários - o dicionário deve conter como chave o nome original, associando a cada chave um único valor (tipo *str*) que contenha o nome novo.\n",
    "\n",
    "A sua tarefa é escrever um dicionário que possa ser utilizado para traduzir as variáveis ```name``` (nome), ```age``` (idade) e ```income``` (renda). Ou seja, esse dicionário deve relacionar as chaves *name, age* e *income* às suas respectivas traduções."
   ]
  },
  {
   "cell_type": "code",
   "execution_count": 7,
   "metadata": {},
   "outputs": [
    {
     "data": {
      "text/plain": [
       "{'name': 'nome', 'age': 'idade', 'income': 'renda'}"
      ]
     },
     "execution_count": 7,
     "metadata": {},
     "output_type": "execute_result"
    }
   ],
   "source": [
    "dic_renomeacao = {'name': 'nome', 'age': 'idade', 'income': 'renda'}\n",
    "dic_renomeacao"
   ]
  },
  {
   "cell_type": "markdown",
   "metadata": {},
   "source": [
    "### 03 - É divisível?\n",
    "A sua tarefa é escrever um código que indique se um número ```N``` é divisível por um número P. Escreva um programa que faça essa verificação para quaisquer combinações de ```N``` e ```M``` e devolva uma mensagem indicativa no output."
   ]
  },
  {
   "cell_type": "code",
   "execution_count": 13,
   "metadata": {},
   "outputs": [
    {
     "name": "stdout",
     "output_type": "stream",
     "text": [
      "150 é divisível por 5\n"
     ]
    }
   ],
   "source": [
    "N = 150\n",
    "M = 5\n",
    "\n",
    "#Seu código\n",
    "\n",
    "if N%M == 0:\n",
    "    print(f'{N} é divisível por {M}')\n",
    "\n",
    "else:\n",
    "    print(f'{N} não é divisível por {M}')"
   ]
  },
  {
   "cell_type": "markdown",
   "metadata": {},
   "source": [
    "### 04 - Números primos\n",
    "> Um número **N** é primo se e somente se é divisível por 1, -1, por **N** e por -**N**.  \n",
    "\n",
    "Escreva um script que verifica se ```N``` é um número primo, verificando se ```N``` é divisível por todos os números de ```1``` a ```N-1```. Você vai precisar usar alguma ferramenta de *loop* que você aprendeu para isto. No final, devolva uma mensagem no output indicando se o número é primo ou não."
   ]
  },
  {
   "cell_type": "code",
   "execution_count": 33,
   "metadata": {},
   "outputs": [
    {
     "name": "stdout",
     "output_type": "stream",
     "text": [
      "Como 47 tem apenas 2 divisores, ele é um número primo.\n"
     ]
    }
   ],
   "source": [
    "N = 47\n",
    "remainder = None\n",
    "divisors = 0\n",
    "# seu código abaixo\n",
    "\n",
    "for n in range(1, N+1):\n",
    "    remainder = N%n\n",
    "    #print(f'Reminder: {remainder}')\n",
    "    \n",
    "    if remainder == 0:\n",
    "        divisors = divisors+1\n",
    "        #print(f'Divisors: {divisors}')\n",
    "    \n",
    "    remainder = None\n",
    "        \n",
    "\n",
    "if divisors == 2:\n",
    "    print(f'Como {N} tem apenas {divisors} divisores, ele é um número primo.')\n",
    "\n",
    "else:\n",
    "    print(f'Como {N} tem {divisors} divisores, ele não é um número primo.')"
   ]
  },
  {
   "cell_type": "markdown",
   "metadata": {},
   "source": [
    "### 05 - Desafio\n",
    "O algorítmo do exercício anterior não é o mais eficiente. O que você pode fazer para deixá-lo mais eficiente? Ou seja, executar menos comparações, portanto consumir menos tempo.\n",
    "1. Será que precisamos correr o loop até o final sempre?\n",
    "2. Será que precisamos mesmo verificar **todos** os números?\n",
    "3. Será que precisamos ir até N-1?\n",
    "\n",
    "Essas perguntas levam ao tipo de pensamento voltado a deixar um algoritmo mais eficiente. Veja se você consegue melhorar o seu."
   ]
  },
  {
   "cell_type": "code",
   "execution_count": 36,
   "metadata": {},
   "outputs": [
    {
     "name": "stdout",
     "output_type": "stream",
     "text": [
      "46 tem mais de dois divisores, logo não é primo\n"
     ]
    }
   ],
   "source": [
    "N = 46\n",
    "remainder = None\n",
    "divisors = 0\n",
    "\n",
    "# seu código aqui\n",
    "\n",
    "for n in range(1, N+1):\n",
    "    remainder = N%n\n",
    "    #print(f'Reminder: {remainder}')\n",
    "    \n",
    "    if remainder == 0:\n",
    "        divisors = divisors+1\n",
    "        #print(f'Divisors: {divisors}')\n",
    "        \n",
    "    if divisors > 2:\n",
    "        print(f'{N} tem mais de dois divisores, logo não é primo')\n",
    "        break\n",
    "    \n",
    "    remainder = None\n",
    "\n",
    "if divisors == 2:\n",
    "    print(f'Como {N} tem apenas {divisors} divisores, ele é um número primo.')"
   ]
  },
  {
   "cell_type": "markdown",
   "metadata": {},
   "source": [
    "### 06 - Peso ideal 1\n",
    "O IMC (índice de massa corpórea) é um indicador de saúde mais bem aceito que o peso. Ele é calculado como:\n",
    "\n",
    "$$ IMC = \\dfrac{peso}{altura^2}$$\n",
    "\n",
    "Segundo a OMS, valores *normais* são entre 18.5 e 24.9.\n",
    "\n",
    "Sua tarefa é encontrar o ponto médio dessa faixa."
   ]
  },
  {
   "cell_type": "code",
   "execution_count": 1,
   "metadata": {},
   "outputs": [
    {
     "data": {
      "text/plain": [
       "21.7"
      ]
     },
     "execution_count": 1,
     "metadata": {},
     "output_type": "execute_result"
    }
   ],
   "source": [
    "inferior_limit = 18.5\n",
    "superior_limit = 24.9\n",
    "\n",
    "imc_ideal = (superior_limit + inferior_limit)/2\n",
    "imc_ideal"
   ]
  },
  {
   "cell_type": "markdown",
   "metadata": {},
   "source": [
    "### 07 - Peso ideal 2\n",
    "Recebendo um valor de altura, encontre o peso '*ideal*' dessa pessoa, que fornece o IMC encontrado acima"
   ]
  },
  {
   "cell_type": "code",
   "execution_count": 3,
   "metadata": {},
   "outputs": [
    {
     "data": {
      "text/plain": [
       "62.71"
      ]
     },
     "execution_count": 3,
     "metadata": {},
     "output_type": "execute_result"
    }
   ],
   "source": [
    "altura = 1.70\n",
    "\n",
    "# Seu código\n",
    "peso_ideal = round(imc_ideal * pow(altura, 2), 2)\n",
    "peso_ideal"
   ]
  },
  {
   "cell_type": "markdown",
   "metadata": {},
   "source": [
    "### 08 - Peso ideal 3\n",
    "Dada uma lista contendo as alturas de pacientes, crie uma nova lista que contenha o peso '*ideal*' (que fornece o IMC calculado em **Peso ideal 1**) desses pacientes."
   ]
  },
  {
   "cell_type": "code",
   "execution_count": 19,
   "metadata": {},
   "outputs": [
    {
     "data": {
      "text/plain": [
       "[82.51, 91.19, 62.71, 59.08]"
      ]
     },
     "execution_count": 19,
     "metadata": {},
     "output_type": "execute_result"
    }
   ],
   "source": [
    "lista_alturas = [1.95, 2.05, 1.70, 1.65]\n",
    "\n",
    "lista_peso_ideal = []\n",
    "\n",
    "peso_ideal = None\n",
    "\n",
    "# seu código\n",
    "for altura in lista_alturas:\n",
    "    peso_ideal = round(imc_ideal * pow(altura, 2), 2)\n",
    "    lista_peso_ideal.append(peso_ideal)\n",
    "    peso_ideal = None\n",
    "\n",
    "lista_peso_ideal"
   ]
  },
  {
   "cell_type": "markdown",
   "metadata": {},
   "source": [
    "### 09 - Peso ideal 4\n",
    "Dada uma lista de tuplas - cada elemento da lista é uma tupla contendo altura e peso de um paciente - crie uma nova lista com o IMC desses pacientes."
   ]
  },
  {
   "cell_type": "code",
   "execution_count": 24,
   "metadata": {},
   "outputs": [
    {
     "data": {
      "text/plain": [
       "[27.78, 27.55, 19.19]"
      ]
     },
     "execution_count": 24,
     "metadata": {},
     "output_type": "execute_result"
    }
   ],
   "source": [
    "altura_peso = [(1.80, 90), (1.65, 75), (1.91, 70)]\n",
    "\n",
    "imc_list = []\n",
    "\n",
    "imc = None\n",
    "peso = None\n",
    "altura = None\n",
    "\n",
    "# seu código\n",
    "for data in altura_peso:\n",
    "    peso = data[1]\n",
    "    altura = data[0]\n",
    "    imc = round(peso/pow(altura, 2), 2)\n",
    "    imc_list.append(imc)\n",
    "    imc = None\n",
    "    peso = None\n",
    "    altura = None\n",
    "\n",
    "imc_list"
   ]
  },
  {
   "cell_type": "markdown",
   "metadata": {},
   "source": [
    "### 10 - Peso ideal 5\n",
    "Dada uma lista de **listas** - cada elemento da lista é uma **lista** contendo altura e peso de um paciente, adicione mais um elemento à lista de cada paciente contendo o IMC do paciente. Verifique também se é 'baixo', 'normal' ou 'alto' segundo os padrões da OMS em que normal é entre 18.5 e 24.9.\n",
    "\n",
    "Reflexão: por que no problema anterior temos que criar uma nova lista, e não podemos adicionar os dados de cada indivíduo à tupla?"
   ]
  },
  {
   "cell_type": "code",
   "execution_count": 27,
   "metadata": {},
   "outputs": [
    {
     "data": {
      "text/plain": [
       "[[1.8, 90, 27.78, 'alto'],\n",
       " [1.65, 75, 27.55, 'alto'],\n",
       " [1.91, 70, 19.19, 'normal']]"
      ]
     },
     "execution_count": 27,
     "metadata": {},
     "output_type": "execute_result"
    }
   ],
   "source": [
    "altura_peso = [[1.80, 90], [1.65, 75], [1.91, 70]]\n",
    "\n",
    "imc = None\n",
    "peso = None\n",
    "altura = None\n",
    "\n",
    "# seu código\n",
    "for data in altura_peso:\n",
    "    \n",
    "    peso = data[1]\n",
    "    altura = data[0]\n",
    "    imc = round(peso/pow(altura, 2), 2)\n",
    "    data.append(imc)\n",
    "    \n",
    "    if imc < 18.5:\n",
    "        data.append('baixo')\n",
    "        \n",
    "    elif imc >= 18.5 and imc <= 24.9:\n",
    "        data.append('normal')\n",
    "        \n",
    "    elif imc > 24.9:\n",
    "        data.append('alto')\n",
    "    \n",
    "    imc = None\n",
    "    peso = None\n",
    "    altura = None\n",
    "\n",
    "altura_peso"
   ]
  }
 ],
 "metadata": {
  "kernelspec": {
   "display_name": "Python 3 (ipykernel)",
   "language": "python",
   "name": "python3"
  },
  "language_info": {
   "codemirror_mode": {
    "name": "ipython",
    "version": 3
   },
   "file_extension": ".py",
   "mimetype": "text/x-python",
   "name": "python",
   "nbconvert_exporter": "python",
   "pygments_lexer": "ipython3",
   "version": "3.9.13"
  }
 },
 "nbformat": 4,
 "nbformat_minor": 4
}
